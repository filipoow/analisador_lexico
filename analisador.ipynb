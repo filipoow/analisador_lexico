# Importando as bibliotecas
import pandas as pd
import re

# Expressões regulares para os tokens
padroes = [(r'\bse\b', 'SE'), (r'\bse nao\b', 'SE NÃO'),
           (r'\benquanto\b', 'ENQUANTO'), (r'\verdadeiro\b', 'BOOLEANO'),
           (r'\bfalso\b', 'BOOLEANO'), (r'\d+', 'NUMERO'),
           (r'[+\-*/]', 'OPERADOR'), (r'[=<>]=?', 'OPERADOR_COMPARACAO'),
           (r'\(', 'ABRE_PARENTESES'), (r'\)', 'FECHA_PARENTESES'),
           (r'#.*', 'COMENTARIO')]


# Função para analisar a sequência de comandos
def analisar(codigo):
  tokens = []
  for padrao in padroes:
    reg, tipo_token = padrao
    lista = re.findall(reg, codigo)
    tokens.extend([(l, tipo_token) for l in lista])
  return tokens


# Entrada de exemplo
codigo = '''
# iniciando o contador
entrada = 0
verificador = 0
enquanto entrada < 5:
    se entrada == 2:
        verificador = falso
    print(entrada) # printando o contador
    entrada = entrada + 1
'''

# Realizar análise léxica
tokens = analisar(codigo)

# Printando o código fonte
print(f'Código fonte: ', codigo)

# Printando a análise lexica
print('Análise Lexica:')

# Exibir os tokens encontrados
print(pd.DataFrame(tokens, columns=['SIMBOLOS', 'TOKEN']))
